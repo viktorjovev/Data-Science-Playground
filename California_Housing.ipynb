{
  "nbformat": 4,
  "nbformat_minor": 0,
  "metadata": {
    "colab": {
      "name": "California_Housing.ipynb",
      "provenance": [],
      "authorship_tag": "ABX9TyMtrr1kervrMS0qvz6QVYfP"
    },
    "kernelspec": {
      "name": "python3",
      "display_name": "Python 3"
    },
    "language_info": {
      "name": "python"
    }
  },
  "cells": [
    {
      "cell_type": "markdown",
      "metadata": {
        "id": "vYHdpWHX3WS0"
      },
      "source": [
        "# Libraries"
      ]
    },
    {
      "cell_type": "code",
      "metadata": {
        "id": "jU-4mmGb4swH"
      },
      "source": [
        "#!pip install missingno"
      ],
      "execution_count": 14,
      "outputs": []
    },
    {
      "cell_type": "code",
      "metadata": {
        "id": "DYnA--Lf2sqx"
      },
      "source": [
        "import warnings\n",
        "warnings.simplefilter(action='ignore', category=FutureWarning)\n",
        "\n",
        "#Main libraries\n",
        "import pandas as pd\n",
        "import numpy as np\n",
        "\n",
        "#Visualization\n",
        "import seaborn as sns\n",
        "import matplotlib.pyplot as plt\n",
        "import missingno as msno\n",
        "% matplotlib inline\n",
        "\n",
        "from itertools import combinations\n",
        "\n",
        "from sklearn.model_selection import train_test_split\n",
        "from sklearn.linear_model import LinearRegression\n",
        "from sklearn.metrics import mean_squared_error\n",
        "from sklearn.preprocessing import MinMaxScaler"
      ],
      "execution_count": 60,
      "outputs": []
    },
    {
      "cell_type": "markdown",
      "metadata": {
        "id": "DjJzPXPC3_N5"
      },
      "source": [
        "# Loading dataset..."
      ]
    },
    {
      "cell_type": "code",
      "metadata": {
        "id": "g4WOsoCI3-Y2"
      },
      "source": [
        "df = pd.read_csv(\"/content/california_housing_train.csv\")"
      ],
      "execution_count": 16,
      "outputs": []
    },
    {
      "cell_type": "code",
      "metadata": {
        "id": "k3TvdpEK4KR9"
      },
      "source": [
        "df.head(10)"
      ],
      "execution_count": null,
      "outputs": []
    },
    {
      "cell_type": "markdown",
      "metadata": {
        "id": "dQpgvRgi4-HI"
      },
      "source": [
        "# EDA"
      ]
    },
    {
      "cell_type": "code",
      "metadata": {
        "id": "dPUky2Bs5E56"
      },
      "source": [
        "df.dtypes"
      ],
      "execution_count": null,
      "outputs": []
    },
    {
      "cell_type": "code",
      "metadata": {
        "id": "YCKMtzHj5LOx"
      },
      "source": [
        "df.isnull().sum()"
      ],
      "execution_count": null,
      "outputs": []
    },
    {
      "cell_type": "code",
      "metadata": {
        "id": "00HnB0oA5PsT"
      },
      "source": [
        "df.describe() #Check for outliers"
      ],
      "execution_count": null,
      "outputs": []
    },
    {
      "cell_type": "code",
      "metadata": {
        "id": "Eyu2wKQ55TzF"
      },
      "source": [
        "fig=plt.figure(figsize=(20,12))\n",
        "sns.boxplot(data=df.drop(columns=['median_house_value'],axis=1),orient=\"h\",palette=\"Set2\")\n",
        "plt.show()\n",
        "#So much outliers...or are they?"
      ],
      "execution_count": null,
      "outputs": []
    },
    {
      "cell_type": "code",
      "metadata": {
        "id": "TiD0knNA5W8o"
      },
      "source": [
        "fig = plt.figure(figsize=(10,5))\n",
        "sns.heatmap(df.corr(), annot=True)\n",
        "plt.show()"
      ],
      "execution_count": null,
      "outputs": []
    },
    {
      "cell_type": "code",
      "metadata": {
        "id": "ZW8KRu6Rpp5B"
      },
      "source": [
        "sns.jointplot(x='median_income', y= 'median_house_value', data=df)\n",
        "plt.show()"
      ],
      "execution_count": null,
      "outputs": []
    },
    {
      "cell_type": "markdown",
      "metadata": {
        "id": "1ezYRVW6dc60"
      },
      "source": [
        "# Combinations of features"
      ]
    },
    {
      "cell_type": "code",
      "metadata": {
        "id": "5FXqscSDFmdQ"
      },
      "source": [
        "columns_list = df.drop(columns=['median_house_value'], axis=1)\n",
        "interactions = [com for sub in range(1,8) for com in combinations(columns_list, sub)]"
      ],
      "execution_count": 38,
      "outputs": []
    },
    {
      "cell_type": "code",
      "metadata": {
        "id": "6DrIdopSfW8t"
      },
      "source": [
        "interactions"
      ],
      "execution_count": null,
      "outputs": []
    },
    {
      "cell_type": "markdown",
      "metadata": {
        "id": "9mzUvVbAhqEg"
      },
      "source": [
        "#Linear Regression (with feature selection)"
      ]
    },
    {
      "cell_type": "code",
      "metadata": {
        "id": "dpw9gTZtfjZy"
      },
      "source": [
        "Y = df['median_house_value']\n",
        "mse_scores=list()\n",
        "for combination in interactions:\n",
        "  X = df[list(combination)]\n",
        "  x_train, x_test, y_train, y_test = train_test_split(X,Y, train_size=0.8, random_state=0)\n",
        "  model = LinearRegression().fit(x_train, y_train)\n",
        "  y_pred = model.predict(x_test)\n",
        "  mse_scores.append(mean_squared_error(y_test,y_pred))"
      ],
      "execution_count": 49,
      "outputs": []
    },
    {
      "cell_type": "code",
      "metadata": {
        "colab": {
          "base_uri": "https://localhost:8080/"
        },
        "id": "rtHfmxakjizc",
        "outputId": "454d21ce-28a9-441a-d230-d690f0147e75"
      },
      "source": [
        "print(\"The minimum mse is: \", min(mse_scores))\n",
        "print(\"With features: \")\n",
        "print(interactions[mse_scores.index(min(mse_scores))])"
      ],
      "execution_count": 55,
      "outputs": [
        {
          "output_type": "stream",
          "text": [
            "The minimum mse is:  4739460612.860681\n",
            "With features: \n",
            "('longitude', 'latitude', 'housing_median_age', 'total_bedrooms', 'population', 'households', 'median_income')\n"
          ],
          "name": "stdout"
        }
      ]
    },
    {
      "cell_type": "markdown",
      "metadata": {
        "id": "dfLtF6l7khS4"
      },
      "source": [
        "## Same, but with normalized data"
      ]
    },
    {
      "cell_type": "code",
      "metadata": {
        "id": "KpMpiF2GjvXS"
      },
      "source": [
        "Y = df['median_house_value']\n",
        "mse_scores=list()\n",
        "\n",
        "for combination in interactions:\n",
        "  X = df[list(combination)]\n",
        "  x_train, x_test, y_train, y_test = train_test_split(X,Y, train_size=0.80, random_state=0)\n",
        "  scaler = MinMaxScaler().fit(x_train)\n",
        "  x_train = scaler.transform(x_train)\n",
        "  x_test = scaler.transform(x_test)\n",
        "  model = LinearRegression().fit(x_train, y_train)\n",
        "  y_pred = model.predict(x_test)\n",
        "  mse_scores.append(mean_squared_error(y_test,y_pred))"
      ],
      "execution_count": 68,
      "outputs": []
    },
    {
      "cell_type": "code",
      "metadata": {
        "colab": {
          "base_uri": "https://localhost:8080/"
        },
        "id": "2OfGK0msljdk",
        "outputId": "96780bb1-a0f8-4c8d-df0e-80f4d6dad9ee"
      },
      "source": [
        "print(\"The minimum mse is: \", min(mse_scores))\n",
        "print(\"With features: \")\n",
        "print(interactions[mse_scores.index(min(mse_scores))])"
      ],
      "execution_count": 69,
      "outputs": [
        {
          "output_type": "stream",
          "text": [
            "The minimum mse is:  4739460612.860679\n",
            "With features: \n",
            "('longitude', 'latitude', 'housing_median_age', 'total_bedrooms', 'population', 'households', 'median_income')\n"
          ],
          "name": "stdout"
        }
      ]
    },
    {
      "cell_type": "markdown",
      "metadata": {
        "id": "59py3oDnqIPf"
      },
      "source": [
        "# **Conclusions**\n",
        "\n",
        "As we can see, Linear regression model + feature selection provides us the minimum mean squared error among other combinations of features. There is no difference even when the data is normalized with MinMaxScaler.\n",
        "\n",
        "The biggest correlation with the target is median_income feature = 0.69 . \n",
        "\n",
        "We can't conclude that there are outliers in the above boxplots. "
      ]
    }
  ]
}